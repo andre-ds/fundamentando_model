{
 "cells": [
  {
   "cell_type": "code",
   "execution_count": null,
   "metadata": {},
   "outputs": [],
   "source": [
    "# GHs\n",
    "# Using BinningProcess\n",
    "from optbinning import BinningProcess, OptimalBinning\n",
    "optb = OptimalBinning(name='prob', dtype='numerical', solver='cp', min_n_bins=4, max_n_prebins=10, min_prebin_size=0.1)\n",
    "optb.fit(dataset_train['prob'], dataset_train[y_col])\n",
    "optb.status\n",
    "\n",
    "binning_table = optb.binning_table\n",
    "binning_table.build()\n",
    "\n",
    "bins = []\n",
    "bins.extend([-1])\n",
    "bins.extend(optb.splits)\n",
    "bins.extend([1000])\n",
    "\n",
    "dataset_train['gh'] = pd.cut(dataset_train['prob'], bins=bins, right=True, labels=[1,2,3,4,5,6,7])\n",
    "dataset_test['gh'] = pd.cut(dataset_test['prob'], bins=bins, right=True, labels=[1,2,3,4,5,6,7])\n",
    "dataset_out['gh'] = pd.cut(dataset_out['prob'], bins=bins, right=True, labels=[1,2,3,4,5,6,7])\n",
    "\n",
    "\n",
    "## GH Graph Analisys - Train\n",
    "fig = plt.figure(figsize=(18,8))\n",
    "sns.lineplot(data=dataset_train, x='dt_month', y=y_col, hue='gh', ci=None)\n",
    "plt.grid(axis='y', linestyle='--')\n",
    "plt.xlabel('Date')\n",
    "plt.ylabel('% Default')\n",
    "plt.title('GHs Train')\n",
    "plt.legend(loc='upper center', bbox_to_anchor=(1.1,0.8), fancybox=True)\n",
    "plt.show()\n",
    "\n",
    "\n",
    "## GH Graph Analisys - All\n",
    "dataset_append = dataset_train.append(dataset_test).append(dataset_out)\n",
    "\n",
    "fig = plt.figure(figsize=(18,8))\n",
    "sns.lineplot(data=dataset_append, x='dt_month', y=y_col, hue='gh', ci=None)\n",
    "plt.grid(axis='y', linestyle='--')\n",
    "plt.xlabel('Date')\n",
    "plt.ylabel('% Default')\n",
    "plt.title('GHs Train')\n",
    "plt.legend(loc='upper center', bbox_to_anchor=(1.1,0.8), fancybox=True)\n",
    "plt.show()"
   ]
  }
 ],
 "metadata": {
  "kernelspec": {
   "display_name": "Python 3.10.8 ('fundamentalista_model')",
   "language": "python",
   "name": "python3"
  },
  "language_info": {
   "name": "python",
   "version": "3.10.8"
  },
  "orig_nbformat": 4,
  "vscode": {
   "interpreter": {
    "hash": "c966ef98584baba0c561030a73d8877c64331fba432bf18d46fe070398571025"
   }
  }
 },
 "nbformat": 4,
 "nbformat_minor": 2
}
